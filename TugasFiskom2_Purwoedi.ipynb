{
  "nbformat": 4,
  "nbformat_minor": 0,
  "metadata": {
    "colab": {
      "provenance": [],
      "authorship_tag": "ABX9TyPzeyO50nF1pvu4VfsQaySY",
      "include_colab_link": true
    },
    "kernelspec": {
      "name": "python3",
      "display_name": "Python 3"
    },
    "language_info": {
      "name": "python"
    }
  },
  "cells": [
    {
      "cell_type": "markdown",
      "metadata": {
        "id": "view-in-github",
        "colab_type": "text"
      },
      "source": [
        "<a href=\"https://colab.research.google.com/github/Purwoedi/PrakFiskom_Tugas2/blob/main/TugasFiskom2_Purwoedi.ipynb\" target=\"_parent\"><img src=\"https://colab.research.google.com/assets/colab-badge.svg\" alt=\"Open In Colab\"/></a>"
      ]
    },
    {
      "cell_type": "markdown",
      "source": [
        "###Soal\n",
        "Sebuah motor yang kecil digunakan untuk memberi daya pada sebuah lift yang menaikkan beban bata yang beratnya 800 N sampai ketinggian 10 m dalam 20 s. Berapakah daya minimum yang harus disediakan motor tersebut?\n"
      ],
      "metadata": {
        "id": "TBVoCpflNCQC"
      }
    },
    {
      "cell_type": "markdown",
      "source": [
        "$ V = \\frac{h}{t} $ \\\\\n",
        "$ V = \\frac{10}{20} = 0,5 m/s $ \\\\\n",
        "$ P = F \\times V $ \\\\\n",
        "$ P = 800 \\times 0,5 = 400 J/s $ \\\\\n"
      ],
      "metadata": {
        "id": "0F2hfBgiNq_B"
      }
    },
    {
      "cell_type": "code",
      "source": [
        "h = 10\n",
        "t = 20\n",
        "F = 800\n",
        "\n",
        "V = h/t\n",
        "print (V, \"m/s\")\n",
        "\n",
        "P = F*V\n",
        "print (P, \"J/s\")"
      ],
      "metadata": {
        "colab": {
          "base_uri": "https://localhost:8080/"
        },
        "id": "I3w2EE0wOq12",
        "outputId": "7a2adcdd-9f26-46c0-f783-e073fc4db16b"
      },
      "execution_count": 4,
      "outputs": [
        {
          "output_type": "stream",
          "name": "stdout",
          "text": [
            "0.5 m/s\n",
            "400.0 J/s\n"
          ]
        }
      ]
    }
  ]
}